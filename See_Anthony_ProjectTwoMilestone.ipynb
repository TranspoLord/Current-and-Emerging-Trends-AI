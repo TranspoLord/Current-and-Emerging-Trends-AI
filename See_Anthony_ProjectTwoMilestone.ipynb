{
 "cells": [
  {
   "cell_type": "markdown",
   "metadata": {},
   "source": [
    "# Treasure Hunt Game Notebook\n",
    "\n",
    "## Read and Review Your Starter Code\n",
    "The theme of this project is a popular treasure hunt game in which the player needs to find the treasure before the pirate does. While you will not be developing the entire game, you will write the part of the game that represents the intelligent agent, which is a pirate in this case. The pirate will try to find the optimal path to the treasure using deep Q-learning. \n",
    "\n",
    "You have been provided with two Python classes and this notebook to help you with this assignment. The first class, TreasureMaze.py, represents the environment, which includes a maze object defined as a matrix. The second class, GameExperience.py, stores the episodes – that is, all the states that come in between the initial state and the terminal state. This is later used by the agent for learning by experience, called \"exploration\". This notebook shows how to play a game. Your task is to complete the deep Q-learning implementation for which a skeleton implementation has been provided. The code blocs you will need to complete has #TODO as a header.\n",
    "\n",
    "First, read and review the next few code and instruction blocks to understand the code that you have been given."
   ]
  },
  {
   "cell_type": "code",
   "execution_count": 14,
   "metadata": {},
   "outputs": [],
   "source": [
    "from __future__ import print_function\n",
    "import os, sys, time, datetime, json, random\n",
    "import numpy as np\n",
    "from keras.models import Sequential\n",
    "from keras.layers.core import Dense, Activation\n",
    "from keras.optimizers import SGD , Adam, RMSprop\n",
    "from keras.layers.advanced_activations import PReLU\n",
    "import matplotlib.pyplot as plt\n",
    "from TreasureMaze import TreasureMaze\n",
    "from GameExperience import GameExperience\n",
    "%matplotlib inline"
   ]
  },
  {
   "cell_type": "markdown",
   "metadata": {},
   "source": [
    "The following code block contains an 8x8 matrix that will be used as a maze object:"
   ]
  },
  {
   "cell_type": "code",
   "execution_count": 15,
   "metadata": {},
   "outputs": [],
   "source": [
    "maze = np.array([\n",
    "    [ 1.,  0.,  1.,  1.,  1.,  1.,  1.,  1.],\n",
    "    [ 1.,  0.,  1.,  1.,  1.,  0.,  1.,  1.],\n",
    "    [ 1.,  0.,  1.,  1.,  0.,  1.,  0.,  1.],\n",
    "    [ 1.,  0.,  1.,  0.,  1.,  1.,  0.,  1.],\n",
    "    [ 1.,  0.,  1.,  1.,  1.,  1.,  1.,  1.],\n",
    "    [ 1.,  1.,  1.,  0.,  1.,  0.,  0.,  0.],\n",
    "    [ 1.,  1.,  1.,  0.,  1.,  1.,  1.,  1.],\n",
    "    [ 1.,  1.,  1.,  1.,  0.,  1.,  1.,  1.]\n",
    "])"
   ]
  },
  {
   "cell_type": "markdown",
   "metadata": {},
   "source": [
    "This helper function allows a visual representation of the maze object:"
   ]
  },
  {
   "cell_type": "code",
   "execution_count": 16,
   "metadata": {},
   "outputs": [],
   "source": [
    "def show(qmaze):\n",
    "    plt.grid('on')\n",
    "    nrows, ncols = qmaze.maze.shape\n",
    "    ax = plt.gca()\n",
    "    ax.set_xticks(np.arange(0.5, nrows, 1))\n",
    "    ax.set_yticks(np.arange(0.5, ncols, 1))\n",
    "    ax.set_xticklabels([])\n",
    "    ax.set_yticklabels([])\n",
    "    canvas = np.copy(qmaze.maze)\n",
    "    for row,col in qmaze.visited:\n",
    "        canvas[row,col] = 0.6\n",
    "    pirate_row, pirate_col, _ = qmaze.state\n",
    "    canvas[pirate_row, pirate_col] = 0.3   # pirate cell\n",
    "    canvas[nrows-1, ncols-1] = 0.9 # treasure cell\n",
    "    img = plt.imshow(canvas, interpolation='none', cmap='gray')\n",
    "    return img"
   ]
  },
  {
   "cell_type": "markdown",
   "metadata": {},
   "source": [
    "The pirate agent can move in four directions: left, right, up, and down. \n",
    "\n",
    "While the agent primarily learns by experience through exploitation, often, the agent can choose to explore the environment to find previously undiscovered paths. This is called \"exploration\" and is defined by epsilon. This value is typically a lower value such as 0.1, which means for every ten attempts, the agent will attempt to learn by experience nine times and will randomly explore a new path one time. You are encouraged to try various values for the exploration factor and see how the algorithm performs."
   ]
  },
  {
   "cell_type": "code",
   "execution_count": 17,
   "metadata": {},
   "outputs": [],
   "source": [
    "LEFT = 0\n",
    "UP = 1\n",
    "RIGHT = 2\n",
    "DOWN = 3\n",
    "\n",
    "\n",
    "# Exploration factor\n",
    "epsilon = 0.1\n",
    "\n",
    "# Actions dictionary\n",
    "actions_dict = {\n",
    "    LEFT: 'left',\n",
    "    UP: 'up',\n",
    "    RIGHT: 'right',\n",
    "    DOWN: 'down',\n",
    "}\n",
    "\n",
    "num_actions = len(actions_dict)\n"
   ]
  },
  {
   "cell_type": "markdown",
   "metadata": {},
   "source": [
    "The sample code block and output below show creating a maze object and performing one action (DOWN), which returns the reward. The resulting updated environment is visualized."
   ]
  },
  {
   "cell_type": "code",
   "execution_count": 18,
   "metadata": {},
   "outputs": [
    {
     "name": "stdout",
     "output_type": "stream",
     "text": [
      "reward= -0.04\n"
     ]
    },
    {
     "data": {
      "text/plain": [
       "<matplotlib.image.AxesImage at 0x20ca0698688>"
      ]
     },
     "execution_count": 18,
     "metadata": {},
     "output_type": "execute_result"
    },
    {
     "data": {
      "image/png": "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\n",
      "text/plain": [
       "<Figure size 432x288 with 1 Axes>"
      ]
     },
     "metadata": {
      "needs_background": "light"
     },
     "output_type": "display_data"
    }
   ],
   "source": [
    "qmaze = TreasureMaze(maze)\n",
    "canvas, reward, game_over = qmaze.act(DOWN)\n",
    "print(\"reward=\", reward)\n",
    "show(qmaze)"
   ]
  },
  {
   "cell_type": "markdown",
   "metadata": {},
   "source": [
    "This function simulates a full game based on the provided trained model. The other parameters include the TreasureMaze object and the starting position of the pirate."
   ]
  },
  {
   "cell_type": "code",
   "execution_count": 19,
   "metadata": {},
   "outputs": [],
   "source": [
    "def play_game(model, qmaze, pirate_cell):\n",
    "    qmaze.reset(pirate_cell)\n",
    "    envstate = qmaze.observe()\n",
    "    while True:\n",
    "        prev_envstate = envstate\n",
    "        # get next action\n",
    "        q = model.predict(prev_envstate)\n",
    "        action = np.argmax(q[0])\n",
    "\n",
    "        # apply action, get rewards and new state\n",
    "        envstate, reward, game_status = qmaze.act(action)\n",
    "        if game_status == 'win':\n",
    "            return True\n",
    "        elif game_status == 'lose':\n",
    "            return False"
   ]
  },
  {
   "cell_type": "markdown",
   "metadata": {},
   "source": [
    "This function helps you to determine whether the pirate can win any game at all. If your maze is not well designed, the pirate may not win any game at all. In this case, your training would not yield any result. The provided maze in this notebook ensures that there is a path to win and you can run this method to check."
   ]
  },
  {
   "cell_type": "code",
   "execution_count": 20,
   "metadata": {},
   "outputs": [],
   "source": [
    "def completion_check(model, qmaze):\n",
    "    for cell in qmaze.free_cells:\n",
    "        if not qmaze.valid_actions(cell):\n",
    "            return False\n",
    "        if not play_game(model, qmaze, cell):\n",
    "            return False\n",
    "    return True"
   ]
  },
  {
   "cell_type": "markdown",
   "metadata": {},
   "source": [
    "The code you have been given in this block will build the neural network model. Review the code and note the number of layers, as well as the activation, optimizer, and loss functions that are used to train the model."
   ]
  },
  {
   "cell_type": "code",
   "execution_count": 21,
   "metadata": {},
   "outputs": [],
   "source": [
    "def build_model(maze):\n",
    "    model = Sequential()\n",
    "    model.add(Dense(maze.size, input_shape=(maze.size,)))\n",
    "    model.add(PReLU())\n",
    "    model.add(Dense(maze.size))\n",
    "    model.add(PReLU())\n",
    "    model.add(Dense(num_actions))\n",
    "    model.compile(optimizer='adam', loss='mse')\n",
    "    return model"
   ]
  },
  {
   "cell_type": "markdown",
   "metadata": {},
   "source": [
    "# #TODO: Complete the Q-Training Algorithm Code Block\n",
    "\n",
    "This is your deep Q-learning implementation. The goal of your deep Q-learning implementation is to find the best possible navigation sequence that results in reaching the treasure cell while maximizing the reward. In your implementation, you need to determine the optimal number of epochs to achieve a 100% win rate.\n",
    "\n",
    "You will need to complete the section starting with #pseudocode. The pseudocode has been included for you."
   ]
  },
  {
   "cell_type": "code",
   "execution_count": 22,
   "metadata": {},
   "outputs": [],
   "source": [
    "def qtrain(model, maze, **opt):\n",
    "\n",
    "    # exploration factor\n",
    "    global epsilon \n",
    "\n",
    "    # number of epochs\n",
    "    n_epoch = opt.get('n_epoch', 1000)\n",
    "\n",
    "    # maximum memory to store episodes\n",
    "    max_memory = opt.get('max_memory', 1000)\n",
    "\n",
    "    # maximum data size for training\n",
    "    data_size = opt.get('data_size', 50)\n",
    "\n",
    "    # start time\n",
    "    start_time = datetime.datetime.now()\n",
    "\n",
    "    # Construct environment/game from numpy array: maze (see above)\n",
    "    qmaze = TreasureMaze(maze)\n",
    "\n",
    "    # Initialize experience replay object\n",
    "    experience = GameExperience(model, max_memory=max_memory)\n",
    "    \n",
    "    win_history = []   # history of win/lose game\n",
    "    hsize = qmaze.maze.size//2   # history window size\n",
    "    win_rate = 0.0\n",
    "    \n",
    "    \n",
    "    for epoch in range(n_epoch):\n",
    "        Agent_cell = np.random.randint(0, high=7, size=2)\n",
    "        qmaze.reset([0,0])\n",
    "        envstate = qmaze.observe()\n",
    "        loss = 0\n",
    "        n_episodes = 0\n",
    "\n",
    "        while qmaze.game_status() == 'not_over':\n",
    "            previous_envstate = envstate\n",
    "            valid_actions = qmaze.valid_actions()\n",
    "\n",
    "            if np.random.rand() < epsilon:\n",
    "                action = random.choice(valid_actions)\n",
    "            else:\n",
    "                action = np.argmax(experience.predict(envstate))\n",
    "\n",
    "            envstate, reward, game_status = qmaze.act(action)\n",
    "            n_episodes += 1\n",
    "            episode = [previous_envstate, action, reward, envstate, game_status]\n",
    "            experience.remember(episode)\n",
    "\n",
    "            inputs,targets = experience.get_data()            \n",
    "            history = model.fit(inputs, targets, epochs=8, batch_size=24, verbose=0)\n",
    "            loss = model.evaluate(inputs, targets)\n",
    "\n",
    "            if episode [4] == 'win':\n",
    "                win_history.append(1)\n",
    "                win_rate = sum(win_history) / len(win_history)\n",
    "                break\n",
    "            elif episode[4] == 'lose':\n",
    "                win_history.append(0)\n",
    "                win_rate = sum(win_history) / len(win_history)\n",
    "                break\n",
    "\n",
    "\n",
    "        if win_rate > epsilon:\n",
    "            print('win rate is larger than epsilon!!!!')\n",
    "            if completion_check(model, qmaze) == True:\n",
    "                print('completion_check() passes!!')\n",
    "\n",
    "        #Print the epoch, loss, episodes, win count, and win rate for each epoch\n",
    "        dt = datetime.datetime.now() - start_time\n",
    "        t = format_time(dt.total_seconds())\n",
    "        template = \"Epoch: {:03d}/{:d} | Loss: {:.4f} | Episodes: {:d} | Win count: {:d} | Win rate: {:.3f} | time: {}\"\n",
    "        print(template.format(epoch, n_epoch-1, loss, n_episodes, sum(win_history), win_rate, t))\n",
    "        # We simply check if training has exhausted all free cells and if in all\n",
    "        # cases the agent won.\n",
    "        if win_rate > 0.9 : epsilon = 0.05\n",
    "        if sum(win_history[-hsize:]) == hsize and completion_check(model, qmaze):\n",
    "            print(\"Reached 100%% win rate at epoch: %d\" % (epoch,))\n",
    "            break\n",
    "\n",
    "    # Determine the total time for training\n",
    "    dt = datetime.datetime.now() - start_time\n",
    "    seconds = dt.total_seconds()\n",
    "    t = format_time(seconds)\n",
    "\n",
    "    print(\"n_epoch: %d, max_mem: %d, data: %d, time: %s\" % (epoch, max_memory, data_size, t))\n",
    "    return seconds\n",
    "\n",
    "# This is a small utility for printing readable time strings:\n",
    "def format_time(seconds):\n",
    "    if seconds < 400:\n",
    "        s = float(seconds)\n",
    "        return \"%.1f seconds\" % (s,)\n",
    "    elif seconds < 4000:\n",
    "        m = seconds / 60.0\n",
    "        return \"%.2f minutes\" % (m,)\n",
    "    else:\n",
    "        h = seconds / 3600.0\n",
    "        return \"%.2f hours\" % (h,)"
   ]
  },
  {
   "cell_type": "markdown",
   "metadata": {},
   "source": [
    "## Test Your Model\n",
    "\n",
    "Now we will start testing the deep Q-learning implementation. To begin, select **Cell**, then **Run All** from the menu bar. This will run your notebook. As it runs, you should see output begin to appear beneath the next few cells. The code below creates an instance of TreasureMaze."
   ]
  },
  {
   "cell_type": "code",
   "execution_count": 23,
   "metadata": {},
   "outputs": [
    {
     "data": {
      "text/plain": [
       "<matplotlib.image.AxesImage at 0x20ca07b64c8>"
      ]
     },
     "execution_count": 23,
     "metadata": {},
     "output_type": "execute_result"
    },
    {
     "data": {
      "image/png": "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\n",
      "text/plain": [
       "<Figure size 432x288 with 1 Axes>"
      ]
     },
     "metadata": {
      "needs_background": "light"
     },
     "output_type": "display_data"
    }
   ],
   "source": [
    "qmaze = TreasureMaze(maze)\n",
    "show(qmaze)"
   ]
  },
  {
   "cell_type": "markdown",
   "metadata": {},
   "source": [
    "In the next code block, you will build your model and train it using deep Q-learning. Note: This step takes several minutes to fully run."
   ]
  },
  {
   "cell_type": "code",
   "execution_count": 24,
   "metadata": {},
   "outputs": [
    {
     "name": "stdout",
     "output_type": "stream",
     "text": [
      "1/1 [==============================] - 0s 63ms/step\n",
      "2/2 [==============================] - 0s 0us/step\n",
      "3/3 [==============================] - 0s 328us/step\n",
      "4/4 [==============================] - 0s 250us/step\n",
      "5/5 [==============================] - 0s 200us/step\n",
      "6/6 [==============================] - 0s 174us/step\n",
      "7/7 [==============================] - 0s 0us/step\n",
      "8/8 [==============================] - 0s 0us/step\n",
      "9/9 [==============================] - 0s 113us/step\n",
      "10/10 [==============================] - 0s 98us/step\n",
      "10/10 [==============================] - 0s 100us/step\n",
      "10/10 [==============================] - 0s 104us/step\n",
      "10/10 [==============================] - 0s 0us/step\n",
      "10/10 [==============================] - 0s 98us/step\n",
      "10/10 [==============================] - 0s 100us/step\n",
      "10/10 [==============================] - 0s 0us/step\n",
      "10/10 [==============================] - 0s 0us/step\n",
      "10/10 [==============================] - 0s 98us/step\n",
      "10/10 [==============================] - 0s 100us/step\n",
      "10/10 [==============================] - 0s 0us/step\n",
      "10/10 [==============================] - 0s 103us/step\n",
      "10/10 [==============================] - 0s 0us/step\n",
      "10/10 [==============================] - 0s 102us/step\n",
      "10/10 [==============================] - 0s 101us/step\n",
      "10/10 [==============================] - 0s 103us/step\n",
      "10/10 [==============================] - 0s 101us/step\n",
      "10/10 [==============================] - 0s 97us/step\n",
      "10/10 [==============================] - 0s 98us/step\n",
      "10/10 [==============================] - 0s 0us/step\n",
      "10/10 [==============================] - 0s 0us/step\n",
      "10/10 [==============================] - 0s 0us/step\n",
      "10/10 [==============================] - 0s 98us/step\n",
      "10/10 [==============================] - 0s 0us/step\n",
      "10/10 [==============================] - 0s 100us/step\n",
      "10/10 [==============================] - 0s 0us/step\n",
      "10/10 [==============================] - 0s 96us/step\n",
      "10/10 [==============================] - 0s 0us/step\n",
      "10/10 [==============================] - 0s 0us/step\n",
      "10/10 [==============================] - 0s 99us/step\n",
      "10/10 [==============================] - 0s 101us/step\n",
      "10/10 [==============================] - 0s 0us/step\n",
      "10/10 [==============================] - 0s 0us/step\n",
      "10/10 [==============================] - 0s 99us/step\n",
      "10/10 [==============================] - 0s 0us/step\n",
      "10/10 [==============================] - 0s 0us/step\n",
      "10/10 [==============================] - 0s 103us/step\n",
      "10/10 [==============================] - 0s 0us/step\n",
      "10/10 [==============================] - 0s 98us/step\n",
      "10/10 [==============================] - 0s 0us/step\n",
      "10/10 [==============================] - 0s 100us/step\n",
      "10/10 [==============================] - 0s 0us/step\n",
      "10/10 [==============================] - 0s 101us/step\n",
      "10/10 [==============================] - 0s 100us/step\n",
      "10/10 [==============================] - 0s 100us/step\n",
      "10/10 [==============================] - 0s 101us/step\n",
      "10/10 [==============================] - 0s 100us/step\n",
      "10/10 [==============================] - 0s 0us/step\n",
      "10/10 [==============================] - 0s 101us/step\n",
      "10/10 [==============================] - 0s 97us/step\n",
      "10/10 [==============================] - 0s 99us/step\n",
      "10/10 [==============================] - 0s 99us/step\n",
      "10/10 [==============================] - 0s 0us/step\n",
      "10/10 [==============================] - 0s 98us/step\n",
      "10/10 [==============================] - 0s 101us/step\n",
      "10/10 [==============================] - 0s 101us/step\n",
      "10/10 [==============================] - 0s 0us/step\n",
      "10/10 [==============================] - 0s 0us/step\n",
      "10/10 [==============================] - 0s 102us/step\n",
      "10/10 [==============================] - 0s 101us/step\n",
      "10/10 [==============================] - 0s 97us/step\n",
      "10/10 [==============================] - 0s 0us/step\n",
      "10/10 [==============================] - 0s 101us/step\n",
      "10/10 [==============================] - 0s 0us/step\n",
      "10/10 [==============================] - 0s 101us/step\n",
      "10/10 [==============================] - 0s 101us/step\n",
      "10/10 [==============================] - 0s 103us/step\n",
      "10/10 [==============================] - 0s 0us/step\n",
      "10/10 [==============================] - 0s 0us/step\n",
      "10/10 [==============================] - 0s 97us/step\n",
      "10/10 [==============================] - 0s 96us/step\n",
      "10/10 [==============================] - 0s 98us/step\n",
      "10/10 [==============================] - 0s 0us/step\n",
      "10/10 [==============================] - 0s 0us/step\n",
      "10/10 [==============================] - 0s 96us/step\n",
      "10/10 [==============================] - 0s 101us/step\n",
      "10/10 [==============================] - 0s 100us/step\n",
      "10/10 [==============================] - 0s 102us/step\n",
      "10/10 [==============================] - 0s 101us/step\n",
      "10/10 [==============================] - 0s 0us/step\n",
      "10/10 [==============================] - 0s 0us/step\n",
      "10/10 [==============================] - 0s 102us/step\n",
      "10/10 [==============================] - 0s 101us/step\n",
      "10/10 [==============================] - 0s 99us/step\n",
      "10/10 [==============================] - 0s 0us/step\n",
      "10/10 [==============================] - 0s 0us/step\n",
      "10/10 [==============================] - 0s 97us/step\n",
      "10/10 [==============================] - 0s 0us/step\n",
      "10/10 [==============================] - 0s 100us/step\n",
      "10/10 [==============================] - 0s 100us/step\n",
      "10/10 [==============================] - 0s 98us/step\n",
      "10/10 [==============================] - 0s 0us/step\n",
      "10/10 [==============================] - 0s 0us/step\n",
      "10/10 [==============================] - 0s 98us/step\n",
      "10/10 [==============================] - 0s 0us/step\n",
      "10/10 [==============================] - 0s 96us/step\n",
      "10/10 [==============================] - 0s 98us/step\n",
      "10/10 [==============================] - 0s 101us/step\n",
      "10/10 [==============================] - 0s 100us/step\n",
      "10/10 [==============================] - 0s 99us/step\n",
      "10/10 [==============================] - 0s 0us/step\n",
      "10/10 [==============================] - 0s 103us/step\n",
      "10/10 [==============================] - 0s 0us/step\n",
      "10/10 [==============================] - 0s 0us/step\n",
      "10/10 [==============================] - 0s 0us/step\n",
      "10/10 [==============================] - 0s 97us/step\n",
      "10/10 [==============================] - 0s 0us/step\n",
      "10/10 [==============================] - 0s 99us/step\n",
      "10/10 [==============================] - 0s 99us/step\n",
      "10/10 [==============================] - 0s 0us/step\n",
      "10/10 [==============================] - 0s 100us/step\n",
      "10/10 [==============================] - 0s 100us/step\n",
      "10/10 [==============================] - 0s 99us/step\n",
      "10/10 [==============================] - 0s 100us/step\n",
      "10/10 [==============================] - 0s 103us/step\n",
      "10/10 [==============================] - 0s 0us/step\n",
      "10/10 [==============================] - 0s 97us/step\n",
      "10/10 [==============================] - 0s 100us/step\n",
      "10/10 [==============================] - 0s 101us/step\n",
      "10/10 [==============================] - 0s 0us/step\n",
      "10/10 [==============================] - 0s 102us/step\n",
      "10/10 [==============================] - 0s 101us/step\n",
      "10/10 [==============================] - 0s 100us/step\n",
      "10/10 [==============================] - 0s 102us/step\n",
      "10/10 [==============================] - 0s 102us/step\n",
      "10/10 [==============================] - 0s 0us/step\n",
      "10/10 [==============================] - 0s 100us/step\n",
      "10/10 [==============================] - 0s 0us/step\n",
      "10/10 [==============================] - 0s 98us/step\n",
      "10/10 [==============================] - 0s 102us/step\n",
      "Epoch: 000/999 | Loss: 0.0003 | Episodes: 139 | Win count: 0 | Win rate: 0.000 | time: 5.5 seconds\n",
      "10/10 [==============================] - 0s 98us/step\n",
      "10/10 [==============================] - 0s 99us/step\n",
      "10/10 [==============================] - 0s 0us/step\n",
      "10/10 [==============================] - 0s 100us/step\n",
      "10/10 [==============================] - 0s 0us/step\n",
      "10/10 [==============================] - 0s 98us/step\n",
      "10/10 [==============================] - 0s 100us/step\n",
      "10/10 [==============================] - 0s 0us/step\n",
      "10/10 [==============================] - 0s 104us/step\n",
      "10/10 [==============================] - 0s 0us/step\n",
      "10/10 [==============================] - 0s 100us/step\n",
      "10/10 [==============================] - 0s 99us/step\n"
     ]
    },
    {
     "name": "stdout",
     "output_type": "stream",
     "text": [
      "10/10 [==============================] - 0s 99us/step\n",
      "10/10 [==============================] - 0s 0us/step\n",
      "10/10 [==============================] - 0s 0us/step\n",
      "10/10 [==============================] - 0s 100us/step\n",
      "10/10 [==============================] - 0s 0us/step\n",
      "10/10 [==============================] - 0s 101us/step\n",
      "10/10 [==============================] - 0s 99us/step\n",
      "10/10 [==============================] - 0s 0us/step\n",
      "10/10 [==============================] - 0s 98us/step\n",
      "10/10 [==============================] - 0s 99us/step\n",
      "10/10 [==============================] - 0s 99us/step\n",
      "10/10 [==============================] - 0s 0us/step\n",
      "10/10 [==============================] - 0s 96us/step\n",
      "10/10 [==============================] - 0s 0us/step\n",
      "10/10 [==============================] - 0s 0us/step\n",
      "10/10 [==============================] - 0s 100us/step\n",
      "10/10 [==============================] - 0s 0us/step\n",
      "10/10 [==============================] - 0s 99us/step\n",
      "10/10 [==============================] - 0s 0us/step\n",
      "10/10 [==============================] - 0s 0us/step\n",
      "10/10 [==============================] - 0s 97us/step\n",
      "10/10 [==============================] - 0s 100us/step\n",
      "10/10 [==============================] - 0s 0us/step\n",
      "10/10 [==============================] - 0s 99us/step\n",
      "10/10 [==============================] - 0s 99us/step\n",
      "10/10 [==============================] - 0s 0us/step\n",
      "10/10 [==============================] - 0s 98us/step\n",
      "10/10 [==============================] - 0s 101us/step\n",
      "10/10 [==============================] - 0s 98us/step\n",
      "10/10 [==============================] - 0s 97us/step\n",
      "10/10 [==============================] - 0s 99us/step\n",
      "10/10 [==============================] - 0s 0us/step\n",
      "10/10 [==============================] - 0s 0us/step\n",
      "10/10 [==============================] - 0s 97us/step\n",
      "10/10 [==============================] - 0s 0us/step\n",
      "10/10 [==============================] - 0s 100us/step\n",
      "10/10 [==============================] - 0s 99us/step\n",
      "10/10 [==============================] - 0s 0us/step\n",
      "10/10 [==============================] - 0s 98us/step\n",
      "10/10 [==============================] - 0s 0us/step\n",
      "10/10 [==============================] - 0s 98us/step\n",
      "10/10 [==============================] - 0s 0us/step\n",
      "10/10 [==============================] - 0s 0us/step\n",
      "10/10 [==============================] - 0s 0us/step\n",
      "10/10 [==============================] - 0s 0us/step\n",
      "10/10 [==============================] - 0s 102us/step\n",
      "10/10 [==============================] - 0s 0us/step\n",
      "10/10 [==============================] - 0s 0us/step\n",
      "10/10 [==============================] - 0s 0us/step\n",
      "10/10 [==============================] - 0s 0us/step\n",
      "10/10 [==============================] - 0s 0us/step\n",
      "10/10 [==============================] - 0s 0us/step\n",
      "10/10 [==============================] - 0s 0us/step\n",
      "10/10 [==============================] - 0s 99us/step\n",
      "10/10 [==============================] - 0s 101us/step\n",
      "10/10 [==============================] - 0s 99us/step\n",
      "10/10 [==============================] - 0s 101us/step\n",
      "10/10 [==============================] - 0s 0us/step\n",
      "10/10 [==============================] - 0s 101us/step\n",
      "10/10 [==============================] - 0s 98us/step\n",
      "10/10 [==============================] - 0s 100us/step\n",
      "10/10 [==============================] - 0s 102us/step\n",
      "10/10 [==============================] - 0s 101us/step\n",
      "10/10 [==============================] - 0s 0us/step\n",
      "10/10 [==============================] - 0s 97us/step\n",
      "10/10 [==============================] - 0s 100us/step\n",
      "10/10 [==============================] - 0s 99us/step\n",
      "10/10 [==============================] - 0s 0us/step\n",
      "10/10 [==============================] - 0s 100us/step\n",
      "10/10 [==============================] - 0s 0us/step\n",
      "10/10 [==============================] - 0s 102us/step\n",
      "10/10 [==============================] - 0s 101us/step\n",
      "10/10 [==============================] - 0s 0us/step\n",
      "10/10 [==============================] - 0s 0us/step\n",
      "10/10 [==============================] - 0s 0us/step\n",
      "10/10 [==============================] - 0s 95us/step\n",
      "10/10 [==============================] - 0s 0us/step\n",
      "10/10 [==============================] - 0s 0us/step\n",
      "10/10 [==============================] - 0s 98us/step\n",
      "10/10 [==============================] - 0s 102us/step\n",
      "10/10 [==============================] - 0s 99us/step\n",
      "10/10 [==============================] - 0s 100us/step\n",
      "10/10 [==============================] - 0s 101us/step\n",
      "10/10 [==============================] - 0s 0us/step\n",
      "10/10 [==============================] - 0s 0us/step\n",
      "10/10 [==============================] - 0s 95us/step\n",
      "10/10 [==============================] - 0s 0us/step\n",
      "10/10 [==============================] - 0s 100us/step\n",
      "10/10 [==============================] - 0s 0us/step\n",
      "10/10 [==============================] - 0s 99us/step\n",
      "10/10 [==============================] - 0s 99us/step\n",
      "10/10 [==============================] - 0s 100us/step\n",
      "10/10 [==============================] - 0s 0us/step\n",
      "10/10 [==============================] - 0s 100us/step\n",
      "10/10 [==============================] - 0s 0us/step\n",
      "10/10 [==============================] - 0s 0us/step\n",
      "10/10 [==============================] - 0s 0us/step\n",
      "10/10 [==============================] - 0s 98us/step\n",
      "10/10 [==============================] - 0s 97us/step\n",
      "10/10 [==============================] - 0s 101us/step\n",
      "10/10 [==============================] - 0s 102us/step\n",
      "10/10 [==============================] - 0s 0us/step\n",
      "10/10 [==============================] - 0s 101us/step\n",
      "10/10 [==============================] - 0s 99us/step\n",
      "10/10 [==============================] - 0s 97us/step\n",
      "10/10 [==============================] - 0s 0us/step\n",
      "10/10 [==============================] - 0s 98us/step\n",
      "10/10 [==============================] - 0s 0us/step\n",
      "10/10 [==============================] - 0s 100us/step\n",
      "10/10 [==============================] - 0s 0us/step\n",
      "10/10 [==============================] - 0s 99us/step\n",
      "10/10 [==============================] - 0s 100us/step\n",
      "10/10 [==============================] - 0s 99us/step\n",
      "10/10 [==============================] - 0s 99us/step\n",
      "10/10 [==============================] - 0s 0us/step\n",
      "10/10 [==============================] - 0s 0us/step\n",
      "10/10 [==============================] - 0s 97us/step\n",
      "10/10 [==============================] - 0s 0us/step\n",
      "10/10 [==============================] - 0s 99us/step\n",
      "10/10 [==============================] - 0s 101us/step\n",
      "10/10 [==============================] - 0s 100us/step\n",
      "10/10 [==============================] - 0s 100us/step\n",
      "10/10 [==============================] - 0s 100us/step\n",
      "10/10 [==============================] - 0s 99us/step\n",
      "10/10 [==============================] - 0s 100us/step\n",
      "10/10 [==============================] - 0s 0us/step\n",
      "10/10 [==============================] - 0s 102us/step\n",
      "10/10 [==============================] - 0s 98us/step\n",
      "10/10 [==============================] - 0s 0us/step\n",
      "10/10 [==============================] - 0s 0us/step\n",
      "10/10 [==============================] - 0s 100us/step\n",
      "10/10 [==============================] - 0s 101us/step\n",
      "10/10 [==============================] - 0s 0us/step\n",
      "10/10 [==============================] - 0s 101us/step\n",
      "Epoch: 001/999 | Loss: 0.0012 | Episodes: 146 | Win count: 0 | Win rate: 0.000 | time: 9.6 seconds\n",
      "10/10 [==============================] - 0s 0us/step\n",
      "10/10 [==============================] - 0s 100us/step\n",
      "10/10 [==============================] - 0s 0us/step\n",
      "10/10 [==============================] - 0s 103us/step\n",
      "10/10 [==============================] - 0s 102us/step\n",
      "10/10 [==============================] - 0s 0us/step\n",
      "10/10 [==============================] - 0s 100us/step\n",
      "10/10 [==============================] - 0s 97us/step\n",
      "10/10 [==============================] - 0s 0us/step\n",
      "10/10 [==============================] - 0s 100us/step\n",
      "10/10 [==============================] - 0s 99us/step\n",
      "10/10 [==============================] - 0s 99us/step\n",
      "10/10 [==============================] - 0s 0us/step\n",
      "10/10 [==============================] - 0s 100us/step\n",
      "10/10 [==============================] - 0s 98us/step\n",
      "10/10 [==============================] - 0s 100us/step\n",
      "10/10 [==============================] - 0s 100us/step\n"
     ]
    },
    {
     "name": "stdout",
     "output_type": "stream",
     "text": [
      "10/10 [==============================] - 0s 99us/step\n",
      "10/10 [==============================] - 0s 0us/step\n",
      "10/10 [==============================] - 0s 99us/step\n",
      "10/10 [==============================] - 0s 95us/step\n",
      "10/10 [==============================] - 0s 0us/step\n",
      "10/10 [==============================] - 0s 100us/step\n",
      "10/10 [==============================] - 0s 98us/step\n",
      "10/10 [==============================] - 0s 0us/step\n",
      "10/10 [==============================] - 0s 98us/step\n",
      "10/10 [==============================] - 0s 0us/step\n",
      "10/10 [==============================] - 0s 97us/step\n",
      "10/10 [==============================] - 0s 98us/step\n",
      "10/10 [==============================] - 0s 0us/step\n",
      "10/10 [==============================] - 0s 101us/step\n",
      "10/10 [==============================] - 0s 0us/step\n",
      "10/10 [==============================] - 0s 99us/step\n",
      "10/10 [==============================] - 0s 98us/step\n",
      "10/10 [==============================] - 0s 99us/step\n",
      "10/10 [==============================] - 0s 0us/step\n",
      "10/10 [==============================] - 0s 0us/step\n",
      "10/10 [==============================] - 0s 100us/step\n",
      "10/10 [==============================] - 0s 0us/step\n",
      "10/10 [==============================] - 0s 0us/step\n",
      "10/10 [==============================] - 0s 0us/step\n",
      "10/10 [==============================] - 0s 0us/step\n",
      "10/10 [==============================] - 0s 100us/step\n",
      "10/10 [==============================] - 0s 102us/step\n",
      "10/10 [==============================] - 0s 100us/step\n",
      "10/10 [==============================] - 0s 101us/step\n",
      "10/10 [==============================] - 0s 98us/step\n",
      "10/10 [==============================] - 0s 0us/step\n",
      "10/10 [==============================] - 0s 100us/step\n",
      "10/10 [==============================] - 0s 101us/step\n",
      "10/10 [==============================] - 0s 98us/step\n",
      "10/10 [==============================] - 0s 0us/step\n",
      "10/10 [==============================] - 0s 0us/step\n",
      "10/10 [==============================] - 0s 99us/step\n",
      "10/10 [==============================] - 0s 0us/step\n",
      "10/10 [==============================] - 0s 99us/step\n",
      "10/10 [==============================] - 0s 100us/step\n",
      "10/10 [==============================] - 0s 0us/step\n",
      "10/10 [==============================] - 0s 102us/step\n",
      "10/10 [==============================] - 0s 99us/step\n",
      "10/10 [==============================] - 0s 0us/step\n",
      "10/10 [==============================] - 0s 0us/step\n",
      "10/10 [==============================] - 0s 100us/step\n",
      "10/10 [==============================] - 0s 96us/step\n",
      "10/10 [==============================] - 0s 101us/step\n",
      "10/10 [==============================] - 0s 99us/step\n",
      "10/10 [==============================] - 0s 0us/step\n",
      "10/10 [==============================] - 0s 103us/step\n",
      "10/10 [==============================] - 0s 0us/step\n",
      "10/10 [==============================] - 0s 0us/step\n",
      "10/10 [==============================] - 0s 100us/step\n",
      "10/10 [==============================] - 0s 0us/step\n",
      "10/10 [==============================] - 0s 99us/step\n",
      "10/10 [==============================] - 0s 0us/step\n",
      "10/10 [==============================] - 0s 102us/step\n",
      "10/10 [==============================] - 0s 99us/step\n",
      "10/10 [==============================] - 0s 98us/step\n",
      "10/10 [==============================] - 0s 0us/step\n",
      "10/10 [==============================] - 0s 98us/step\n",
      "10/10 [==============================] - 0s 100us/step\n",
      "10/10 [==============================] - 0s 0us/step\n",
      "10/10 [==============================] - 0s 0us/step\n",
      "10/10 [==============================] - 0s 0us/step\n",
      "10/10 [==============================] - 0s 102us/step\n",
      "10/10 [==============================] - 0s 99us/step\n",
      "10/10 [==============================] - 0s 100us/step\n",
      "10/10 [==============================] - 0s 98us/step\n",
      "10/10 [==============================] - 0s 0us/step\n",
      "10/10 [==============================] - 0s 103us/step\n",
      "10/10 [==============================] - 0s 0us/step\n",
      "10/10 [==============================] - 0s 97us/step\n",
      "10/10 [==============================] - 0s 99us/step\n",
      "10/10 [==============================] - 0s 0us/step\n",
      "10/10 [==============================] - 0s 0us/step\n",
      "10/10 [==============================] - 0s 100us/step\n",
      "10/10 [==============================] - 0s 0us/step\n",
      "10/10 [==============================] - 0s 0us/step\n",
      "10/10 [==============================] - 0s 0us/step\n",
      "10/10 [==============================] - 0s 101us/step\n",
      "10/10 [==============================] - 0s 0us/step\n",
      "10/10 [==============================] - 0s 0us/step\n",
      "10/10 [==============================] - 0s 97us/step\n",
      "10/10 [==============================] - 0s 100us/step\n",
      "10/10 [==============================] - 0s 101us/step\n",
      "10/10 [==============================] - 0s 0us/step\n",
      "10/10 [==============================] - 0s 98us/step\n",
      "10/10 [==============================] - 0s 0us/step\n",
      "10/10 [==============================] - 0s 100us/step\n",
      "10/10 [==============================] - 0s 0us/step\n",
      "10/10 [==============================] - 0s 0us/step\n",
      "10/10 [==============================] - 0s 0us/step\n",
      "10/10 [==============================] - 0s 100us/step\n",
      "10/10 [==============================] - 0s 102us/step\n",
      "10/10 [==============================] - 0s 98us/step\n",
      "10/10 [==============================] - 0s 103us/step\n",
      "10/10 [==============================] - 0s 0us/step\n",
      "10/10 [==============================] - 0s 0us/step\n",
      "10/10 [==============================] - 0s 0us/step\n",
      "10/10 [==============================] - 0s 96us/step\n",
      "10/10 [==============================] - 0s 0us/step\n",
      "10/10 [==============================] - 0s 0us/step\n",
      "10/10 [==============================] - 0s 101us/step\n",
      "10/10 [==============================] - 0s 0us/step\n",
      "10/10 [==============================] - 0s 98us/step\n",
      "10/10 [==============================] - 0s 100us/step\n",
      "10/10 [==============================] - 0s 100us/step\n",
      "10/10 [==============================] - 0s 98us/step\n",
      "10/10 [==============================] - 0s 103us/step\n",
      "10/10 [==============================] - 0s 102us/step\n",
      "10/10 [==============================] - 0s 0us/step\n",
      "10/10 [==============================] - 0s 0us/step\n",
      "10/10 [==============================] - 0s 0us/step\n",
      "10/10 [==============================] - 0s 99us/step\n",
      "10/10 [==============================] - 0s 100us/step\n",
      "10/10 [==============================] - 0s 101us/step\n",
      "10/10 [==============================] - 0s 100us/step\n",
      "10/10 [==============================] - 0s 0us/step\n",
      "10/10 [==============================] - 0s 99us/step\n",
      "10/10 [==============================] - 0s 101us/step\n",
      "10/10 [==============================] - 0s 0us/step\n",
      "10/10 [==============================] - 0s 101us/step\n",
      "10/10 [==============================] - 0s 98us/step\n",
      "10/10 [==============================] - 0s 101us/step\n",
      "10/10 [==============================] - 0s 102us/step\n",
      "10/10 [==============================] - 0s 0us/step\n",
      "Epoch: 002/999 | Loss: 0.0003 | Episodes: 145 | Win count: 0 | Win rate: 0.000 | time: 13.8 seconds\n",
      "10/10 [==============================] - 0s 0us/step\n",
      "10/10 [==============================] - 0s 100us/step\n",
      "10/10 [==============================] - 0s 0us/step\n",
      "10/10 [==============================] - 0s 0us/step\n",
      "10/10 [==============================] - 0s 0us/step\n",
      "10/10 [==============================] - 0s 101us/step\n",
      "10/10 [==============================] - 0s 0us/step\n",
      "10/10 [==============================] - 0s 98us/step\n",
      "10/10 [==============================] - 0s 0us/step\n",
      "10/10 [==============================] - 0s 100us/step\n",
      "10/10 [==============================] - 0s 0us/step\n",
      "10/10 [==============================] - 0s 0us/step\n",
      "10/10 [==============================] - 0s 100us/step\n",
      "10/10 [==============================] - 0s 100us/step\n",
      "10/10 [==============================] - 0s 0us/step\n",
      "10/10 [==============================] - 0s 100us/step\n",
      "10/10 [==============================] - 0s 102us/step\n",
      "10/10 [==============================] - 0s 0us/step\n",
      "10/10 [==============================] - 0s 100us/step\n",
      "10/10 [==============================] - 0s 96us/step\n",
      "10/10 [==============================] - 0s 98us/step\n",
      "10/10 [==============================] - 0s 99us/step\n",
      "10/10 [==============================] - 0s 101us/step\n"
     ]
    },
    {
     "data": {
      "text/plain": [
       "450.701906"
      ]
     },
     "execution_count": 24,
     "metadata": {},
     "output_type": "execute_result"
    }
   ],
   "source": [
    "model = build_model(maze)\n",
    "qtrain(model, maze, epochs=1000, max_memory=8*maze.size, data_size=32)"
   ]
  },
  {
   "cell_type": "markdown",
   "metadata": {},
   "source": [
    "This cell will check to see if the model passes the completion check. Note: This could take several minutes."
   ]
  },
  {
   "cell_type": "code",
   "execution_count": 25,
   "metadata": {},
   "outputs": [
    {
     "data": {
      "text/plain": [
       "<matplotlib.image.AxesImage at 0x20c9d162ac8>"
      ]
     },
     "execution_count": 25,
     "metadata": {},
     "output_type": "execute_result"
    },
    {
     "data": {
      "image/png": "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\n",
      "text/plain": [
       "<Figure size 432x288 with 1 Axes>"
      ]
     },
     "metadata": {
      "needs_background": "light"
     },
     "output_type": "display_data"
    }
   ],
   "source": [
    "completion_check(model, qmaze)\n",
    "show(qmaze)"
   ]
  },
  {
   "cell_type": "markdown",
   "metadata": {},
   "source": [
    "This cell will test your model for one game. It will start the pirate at the top-left corner and run play_game. The agent should find a path from the starting position to the target (treasure). The treasure is located in the bottom-right corner."
   ]
  },
  {
   "cell_type": "code",
   "execution_count": 26,
   "metadata": {},
   "outputs": [
    {
     "data": {
      "text/plain": [
       "<matplotlib.image.AxesImage at 0x20c9d1aad88>"
      ]
     },
     "execution_count": 26,
     "metadata": {},
     "output_type": "execute_result"
    },
    {
     "data": {
      "image/png": "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\n",
      "text/plain": [
       "<Figure size 432x288 with 1 Axes>"
      ]
     },
     "metadata": {
      "needs_background": "light"
     },
     "output_type": "display_data"
    }
   ],
   "source": [
    "pirate_start = (0, 0)\n",
    "play_game(model, qmaze, pirate_start)\n",
    "show(qmaze)"
   ]
  },
 ],
 "metadata": {
  "kernelspec": {
   "display_name": "Python 3",
   "language": "python",
   "name": "python3"
  },
  "language_info": {
   "codemirror_mode": {
    "name": "ipython",
    "version": 3
   },
   "file_extension": ".py",
   "mimetype": "text/x-python",
   "name": "python",
   "nbconvert_exporter": "python",
   "pygments_lexer": "ipython3",
   "version": "3.7.4"
  }
 },
 "nbformat": 4,
 "nbformat_minor": 2
}
